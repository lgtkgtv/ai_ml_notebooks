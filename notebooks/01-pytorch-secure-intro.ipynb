{
 "cells": [
  {
   "cell_type": "code",
   "execution_count": 1,
   "id": "32911ff8-7737-4d75-904e-810ee060216d",
   "metadata": {},
   "outputs": [],
   "source": [
    "# ✅ Auto-install and load dotenv\n",
    "try:\n",
    "    from dotenv import load_dotenv\n",
    "except ImportError:\n",
    "    import sys\n",
    "    !{sys.executable} -m pip install --quiet python-dotenv\n",
    "    from dotenv import load_dotenv"
   ]
  },
  {
   "cell_type": "code",
   "execution_count": 2,
   "id": "e1a26899-9d49-4306-a03d-42d63a84cbbd",
   "metadata": {},
   "outputs": [],
   "source": [
    "import sys\n",
    "from pathlib import Path\n",
    "\n",
    "# print(Path.cwd().resolve())                    # /home/s/lgtk/my-ai-project/notebooks\n",
    "# print(Path.cwd().resolve().parents[0])         # /home/s/lgtk/my-ai-project\n",
    "# print(Path.cwd().resolve().parents[1])         # /home/s/lgtk   \n",
    "\n",
    "project_root = Path.cwd().resolve().parents[0]\n",
    "src_path = project_root / \"src\"\n",
    "if str(src_path) not in sys.path:\n",
    "    sys.path.insert(0, str(src_path))\n",
    "    \n",
    "from config_loader import load_env, get_config\n",
    "\n",
    "# === API Keys ===\n",
    "load_env(verbose=False)\n",
    "\n",
    "get_config(\"AWS_SECRET_ACCESS_KEY\")\n",
    "get_config(\"GOOGLE_APPLICATION_CREDENTIALS\")\n",
    "  \n",
    "get_config(\"GOOGLE_GENAI_API_KEY\")\n",
    "get_config(\"HUGGINGFACEHUB_API_TOKEN\")\n",
    "get_config(\"YOUTUBE_API_KEY\")\n",
    "get_config(\"WANDB_API_KEY\")\n",
    "\n",
    "# === Registry Tokens ===\n",
    "get_config(\"GITHUB_TOKEN\")\n",
    "get_config(\"DOCKERHUB_USERNAME\")\n",
    "get_config(\"DOCKERHUB_TOKEN\")\n",
    "\n",
    "# === Project Config ===\n",
    "get_config(\"PROJECT_NAME\")\n",
    "get_config(\"PROJECT_ROOT_DIR\")\n",
    "get_config(\"ENV=dev\")\n",
    "\n",
    "openai_key=get_config(\"OPENAI_API_KEY\")\n",
    "if (openai_key==None):\n",
    "    print(f\"KEY NOT Found\")\n"
   ]
  },
  {
   "cell_type": "code",
   "execution_count": 3,
   "id": "4f4a5a47-f6e6-4fe8-beb3-a9d786d46c05",
   "metadata": {},
   "outputs": [],
   "source": [
    "# %pip uninstall --yes torch torchvision torchaudio\n",
    "# uv add torch torchvision torchaudio"
   ]
  },
  {
   "cell_type": "code",
   "execution_count": 4,
   "id": "0aaeadcc-f2f2-4fa9-8f53-c3dc966567fb",
   "metadata": {},
   "outputs": [
    {
     "name": "stdout",
     "output_type": "stream",
     "text": [
      "Torch version: 2.8.0+cu128\n",
      "CUDA available: True\n"
     ]
    }
   ],
   "source": [
    "# ✅ Auto-install and load torch, torchvision, torchaudio\n",
    "try:\n",
    "    import torch, torchvision, torchaudio\n",
    "except ImportError:\n",
    "    import sys\n",
    "    !{sys.executable} -m pip install  torch torchvision torchaudio\n",
    "    import torch, torchvision, torchaudio\n",
    "\n",
    "print(f\"Torch version: {torch.__version__}\")\n",
    "print(f\"CUDA available: {torch.cuda.is_available()}\")    "
   ]
  },
  {
   "cell_type": "code",
   "execution_count": 5,
   "id": "2fb04896-5c42-4207-a5cd-39c7e0fdde96",
   "metadata": {},
   "outputs": [
    {
     "name": "stdout",
     "output_type": "stream",
     "text": [
      "[BOOTSTRAP] Random seeds set\n"
     ]
    }
   ],
   "source": [
    "# ✅ Optional: Set random seeds for reproducibility\n",
    "import random\n",
    "import numpy as np\n",
    "import torch\n",
    "\n",
    "seed = 42\n",
    "random.seed(seed)\n",
    "np.random.seed(seed)\n",
    "torch.manual_seed(seed)\n",
    "if torch.cuda.is_available():\n",
    "    torch.cuda.manual_seed_all(seed)\n",
    "\n",
    "print(\"[BOOTSTRAP] Random seeds set for reproducibility\")"
   ]
  },
  {
   "cell_type": "code",
   "execution_count": null,
   "id": "07c6633e-be99-4270-9e60-11a0cfc5a49b",
   "metadata": {},
   "outputs": [],
   "source": []
  }
 ],
 "metadata": {
  "kernelspec": {
   "display_name": "my-ai-project",
   "language": "python",
   "name": "my-ai-project"
  },
  "language_info": {
   "codemirror_mode": {
    "name": "ipython",
    "version": 3
   },
   "file_extension": ".py",
   "mimetype": "text/x-python",
   "name": "python",
   "nbconvert_exporter": "python",
   "pygments_lexer": "ipython3",
   "version": "3.13.5"
  }
 },
 "nbformat": 4,
 "nbformat_minor": 5
}
