{
 "cells": [
  {
   "cell_type": "markdown",
   "id": "62fe1a63-e9a0-4426-81b0-8ad887d4af18",
   "metadata": {},
   "source": [
    "#### yt-cli.ipynb "
   ]
  },
  {
   "cell_type": "markdown",
   "id": "7bc23040-6fc6-4a0c-9d6a-2d671fd31b55",
   "metadata": {},
   "source": [
    "## Section 1 - Initialization\n",
    "#### `src/my_config_loader.py` module is used to read environment \n",
    "```\n",
    "load_env(verbose=False)\n",
    "openai_key=get_config(\"OPENAI_API_KEY\", None)\n",
    "if (openai_key==None):\n",
    "    print(f\"KEY NOT Found\")\n",
    "```  \n",
    "#### `src/my_pip_installer_logger.py` module is used to install pip packages needed \n",
    "```\n",
    "packages = [\"google-auth\", \"google-auth-oauthlib\",\"google-api-python-client\",\"nonexistent-package\"]\n",
    "results, logs = run_pip_install_summary(packages)\n",
    "\n",
    "Expected output\n",
    "⏭️ google-auth → skipped\n",
    "⏭️ google-auth-oauthlib → skipped\n",
    "✅ google-api-python-client → success\n",
    "❌ nonexistent-package → failed\n",
    "\n",
    "The full pip logs will still be available in logs if you want to inspect them:\n",
    "print(logs)\n",
    "```"
   ]
  },
  {
   "cell_type": "code",
   "execution_count": 1,
   "id": "88d82fd7-7056-4ed6-aa78-abeb291b6d1a",
   "metadata": {},
   "outputs": [],
   "source": [
    "#### Reusable codeblock to include the `src/config_loader.py` module \n",
    "import sys\n",
    "from pathlib import Path\n",
    "project_root = Path.cwd().resolve().parents[0]\n",
    "src_path = project_root / \"src\"\n",
    "if str(src_path) not in sys.path:\n",
    "    sys.path.insert(0, str(src_path))\n",
    "\n",
    "try:\n",
    "    from dotenv import load_dotenv\n",
    "except ImportError:\n",
    "    import sys\n",
    "    !{sys.executable} -m pip install --quiet python-dotenv\n",
    "    from dotenv import load_dotenv\n",
    "\n",
    "from my_config_loader import load_env, get_config\n",
    "from my_pip_installer_logger import run_pip_install_summary"
   ]
  },
  {
   "cell_type": "code",
   "execution_count": 2,
   "id": "f8464a62-945e-4e10-8656-7b1ec158d5c9",
   "metadata": {},
   "outputs": [
    {
     "name": "stdout",
     "output_type": "stream",
     "text": [
      "⏭️ google-auth → skipped\n",
      "⏭️ google-auth-oauthlib → skipped\n",
      "⏭️ google-api-python-client → skipped\n"
     ]
    }
   ],
   "source": [
    "packages = [\"google-auth\", \"google-auth-oauthlib\",\"google-api-python-client\"]\n",
    "results, logs = run_pip_install_summary(packages)\n",
    "# print(logs)"
   ]
  },
  {
   "cell_type": "code",
   "execution_count": 3,
   "id": "4aa66e23-e089-46e3-b073-990e7586d874",
   "metadata": {},
   "outputs": [],
   "source": [
    "load_env(verbose=False)\n",
    "yt_cli_client_secret_file=get_config(\"YTCLI_CLIENT_SECRET\", None)\n",
    "if (yt_cli_client_secret_file==None):\n",
    "    print(f\"YTCLI_CLIENT_SECRET file not found\")\n",
    "\n",
    "project_root = Path.cwd().resolve().parents[0]\n",
    "yt_cli_client_secret_file = project_root / yt_cli_client_secret_file  # full path"
   ]
  },
  {
   "cell_type": "code",
   "execution_count": 4,
   "id": "933d341f-8179-4aa3-953e-31cda78085e4",
   "metadata": {},
   "outputs": [
    {
     "name": "stdout",
     "output_type": "stream",
     "text": [
      "Please visit this URL to authorize this application: https://accounts.google.com/o/oauth2/auth?response_type=code&client_id=219732988334-dae0iag4o0bb7t38bub2fh4poe8rjkc1.apps.googleusercontent.com&redirect_uri=http%3A%2F%2Flocalhost%3A37489%2F&scope=https%3A%2F%2Fwww.googleapis.com%2Fauth%2Fyoutube.readonly&state=rH887nASEPhsqiY3zpP8YsYSjm4MfK&access_type=offline\n"
     ]
    },
    {
     "name": "stderr",
     "output_type": "stream",
     "text": [
      "[28035, Main Thread] WARNING: Failed to read portal settings: GDBus.Error:org.freedesktop.DBus.Error.UnknownMethod: No such interface “org.freedesktop.portal.Settings” on object at path /org/freedesktop/portal/desktop: 'glib warning', file /build/firefox/parts/firefox/build/toolkit/xre/nsSigHandlers.cpp:201\n",
      "\n",
      "(firefox_firefox:28035): Gdk-WARNING **: 22:27:14.113: Failed to read portal settings: GDBus.Error:org.freedesktop.DBus.Error.UnknownMethod: No such interface “org.freedesktop.portal.Settings” on object at path /org/freedesktop/portal/desktop\n"
     ]
    }
   ],
   "source": [
    "##  OAuth flow\n",
    "\n",
    "from google_auth_oauthlib.flow import InstalledAppFlow\n",
    "from googleapiclient.discovery import build\n",
    "\n",
    "SCOPES = [\"https://www.googleapis.com/auth/youtube.readonly\"]\n",
    "\n",
    "flow = InstalledAppFlow.from_client_secrets_file(\n",
    "    yt_cli_client_secret_file,\n",
    "    SCOPES\n",
    ")\n",
    "creds = flow.run_local_server(port=0)\n",
    "\n",
    "youtube = build(\"youtube\", \"v3\", credentials=creds)"
   ]
  },
  {
   "cell_type": "code",
   "execution_count": null,
   "id": "2f5c1ba4-b0d8-4c72-89c4-c6fdbd84bb80",
   "metadata": {},
   "outputs": [],
   "source": [
    "import importlib\n",
    "import youtube_auth\n",
    "importlib.reload(youtube_auth)"
   ]
  },
  {
   "cell_type": "code",
   "execution_count": null,
   "id": "2c5e737d-fd4b-4062-97e6-b199b510b46c",
   "metadata": {},
   "outputs": [],
   "source": [
    "! ls -l \"/home/s/lgtk/my-ai-project/secret/client_secret--ClientID-219732988334-dae0iag4o0bb7t38bub2fh4poe8rjkc1.apps.googleusercontent.com\""
   ]
  },
  {
   "cell_type": "code",
   "execution_count": null,
   "id": "4661ac50-5155-4e1d-a884-a0f8e8224c1e",
   "metadata": {},
   "outputs": [],
   "source": [
    "from youtube_auth import get_authenticated_youtube\n",
    "\n",
    "yt = get_authenticated_youtube(\n",
    "    account=\"lgtkgtv@gmail.com\",\n",
    "    headless=False,\n",
    "    client_secret_file=\"/home/s/lgtk/my-ai-project/secret/client_secret--ClientID-219732988334-dae0iag4o0bb7t38bub2fh4poe8rjkc1.apps.googleusercontent.com\"\n",
    ")\n"
   ]
  },
  {
   "cell_type": "code",
   "execution_count": null,
   "id": "2b887034-e66e-4b89-aec6-6a69804f9767",
   "metadata": {},
   "outputs": [],
   "source": []
  },
  {
   "cell_type": "code",
   "execution_count": null,
   "id": "be73869c-02d7-446b-ab07-3923354f83cb",
   "metadata": {},
   "outputs": [],
   "source": [
    "# 🚀 Example Usage\n",
    "from youtube_auth import get_authenticated_youtube\n",
    "\n",
    "account = \"lgtkgtv@gmail.com\" # Use the account you're authenticating\n",
    "yt = get_authenticated_youtube(account, headless=False)  # set headless=True for CLI/SSH\n",
    "\n",
    "# Example: Get your own YouTube channel info\n",
    "response = yt.channels().list(part=\"snippet,statistics\", mine=True).execute()\n",
    "print(response)"
   ]
  },
  {
   "cell_type": "code",
   "execution_count": null,
   "id": "996ff5e3-8297-43fe-8914-9d1754dcc07f",
   "metadata": {},
   "outputs": [],
   "source": []
  }
 ],
 "metadata": {
  "kernelspec": {
   "display_name": "my-ai-project",
   "language": "python",
   "name": "my-ai-project"
  },
  "language_info": {
   "codemirror_mode": {
    "name": "ipython",
    "version": 3
   },
   "file_extension": ".py",
   "mimetype": "text/x-python",
   "name": "python",
   "nbconvert_exporter": "python",
   "pygments_lexer": "ipython3",
   "version": "3.13.5"
  }
 },
 "nbformat": 4,
 "nbformat_minor": 5
}
